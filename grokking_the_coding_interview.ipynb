{
 "cells": [
  {
   "cell_type": "code",
   "execution_count": null,
   "metadata": {},
   "outputs": [],
   "source": []
  },
  {
   "cell_type": "markdown",
   "metadata": {},
   "source": [
    "# Sliding Window\n",
    "\n",
    "\n",
    "## Introduction\n",
    "\n",
    "In many problems dealing with an array (or a LinkedList), we are asked to find or calculate something among all the contiguous subarrays (or sublists) of a given size. For example, take a look at this problem:\n",
    "\n",
    "Given an array, find the average of all contiguous subarrays of size ‘K’ in it.\n",
    "\n",
    "Let’s understand this problem with a real input:\n",
    "\n",
    "Array: [1, 3, 2, 6, -1, 4, 1, 8, 2], K=5\n",
    "\n",
    "Here, we are asked to find the average of all contiguous subarrays of size ‘5’ in the given array. Let’s solve this:\n",
    "\n",
    "- For the first 5 numbers (subarray from index 0-4), the average is: (1+3+2+6-1)/5 => 2.2(1+3+2+6−1)/5=>2.2\n",
    "- The average of next 5 numbers (subarray from index 1-5) is: (3+2+6-1+4)/5 => 2.8(3+2+6−1+4)/5=>2.8\n",
    "- For the next 5 numbers (subarray from index 2-6), the average is: (2+6-1+4+1)/5 => 2.4(2+6−1+4+1)/5=>2.4\n",
    "…\n",
    "\n",
    "Here is the final output containing the averages of all contiguous subarrays of size 5:\n",
    "\n",
    "Output: [2.2, 2.8, 2.4, 3.6, 2.8]\n",
    "\n",
    "A brute-force algorithm will calculate the sum of every 5-element contiguous subarray of the given array and divide the sum by ‘5’ to find the average. \n",
    "\n"
   ]
  },
  {
   "cell_type": "code",
   "execution_count": 1,
   "metadata": {},
   "outputs": [
    {
     "name": "stdout",
     "output_type": "stream",
     "text": [
      "Averages of subarrays of size K: [2.2, 2.8, 2.4, 3.6, 2.8]\n"
     ]
    }
   ],
   "source": [
    "def find_averages_of_subarrays(K, arr):\n",
    "  result = []\n",
    "  for i in range(len(arr)-K+1):\n",
    "    # find sum of next 'K' elements\n",
    "    _sum = 0.0\n",
    "    for j in range(i, i+K):\n",
    "      _sum += arr[j]\n",
    "    result.append(_sum/K)  # calculate average\n",
    "\n",
    "  return result\n",
    "\n",
    "\n",
    "def main():\n",
    "  result = find_averages_of_subarrays(5, [1, 3, 2, 6, -1, 4, 1, 8, 2])\n",
    "  print(\"Averages of subarrays of size K: \" + str(result))\n",
    "\n",
    "\n",
    "main()\n"
   ]
  },
  {
   "cell_type": "markdown",
   "metadata": {},
   "source": [
    "Time complexity: \n",
    "\n",
    "Since for every element of the input array, we are calculating the sum of its next ‘K’ elements, the time complexity of the above algorithm will be O(N*K) where ‘N’ is the number of elements in the input array.\n"
   ]
  },
  {
   "cell_type": "code",
   "execution_count": 2,
   "metadata": {},
   "outputs": [
    {
     "name": "stdout",
     "output_type": "stream",
     "text": [
      "Averages of subarrays of size K: [2.2, 2.8, 2.4, 3.6, 2.8]\n"
     ]
    }
   ],
   "source": [
    "def find_averages_of_subarrays(K, arr):\n",
    "  result = []\n",
    "  windowSum, windowStart = 0.0, 0\n",
    "  for windowEnd in range(len(arr)):\n",
    "    windowSum += arr[windowEnd]  # add the next element\n",
    "    # slide the window, we don't need to slide if we've not hit the required window size of 'k'\n",
    "    if windowEnd >= K - 1:\n",
    "      result.append(windowSum / K)  # calculate the average\n",
    "      windowSum -= arr[windowStart]  # subtract the element going out\n",
    "      windowStart += 1  # slide the window ahead\n",
    "\n",
    "  return result\n",
    "\n",
    "\n",
    "def main():\n",
    "  result = find_averages_of_subarrays(5, [1, 3, 2, 6, -1, 4, 1, 8, 2])\n",
    "  print(\"Averages of subarrays of size K: \" + str(result))\n",
    "\n",
    "\n",
    "main()\n"
   ]
  },
  {
   "cell_type": "code",
   "execution_count": null,
   "metadata": {},
   "outputs": [],
   "source": []
  },
  {
   "cell_type": "markdown",
   "metadata": {},
   "source": [
    "## Maximum Sum Subarray of Size K (easy)\n",
    "\n",
    "\n",
    "Problem Statement#\n",
    "\n",
    "Given an array of positive numbers and a positive number ‘k,’ find the maximum sum of any contiguous subarray of size ‘k’.\n",
    "\n",
    "Example 1:\n",
    "\n",
    "Input: [2, 1, 5, 1, 3, 2], k=3 \n",
    "\n",
    "Output: 9\n",
    "\n",
    "Explanation: Subarray with maximum sum is [5, 1, 3].\n",
    "\n",
    "Example 2:\n",
    "\n",
    "Input: [2, 3, 4, 1, 5], k=2 \n",
    "\n",
    "Output: 7\n",
    "\n",
    "Explanation: Subarray with maximum sum is [3, 4].\n",
    "\n",
    "\n"
   ]
  },
  {
   "cell_type": "code",
   "execution_count": 3,
   "metadata": {},
   "outputs": [
    {
     "name": "stdout",
     "output_type": "stream",
     "text": [
      "Maximum sum of a subarray of size K: 9\n",
      "Maximum sum of a subarray of size K: 7\n"
     ]
    }
   ],
   "source": [
    "def max_sub_array_of_size_k(k, arr):\n",
    "  max_sum , window_sum = 0, 0\n",
    "  window_start = 0\n",
    "\n",
    "  for window_end in range(len(arr)):\n",
    "    window_sum += arr[window_end]  # add the next element\n",
    "    # slide the window, we don't need to slide if we've not hit the required window size of 'k'\n",
    "    if window_end >= k-1:\n",
    "      max_sum = max(max_sum, window_sum)\n",
    "      window_sum -= arr[window_start]  # subtract the element going out\n",
    "      window_start += 1  # slide the window ahead\n",
    "  return max_sum\n",
    "\n",
    "\n",
    "def main():\n",
    "  print(\"Maximum sum of a subarray of size K: \" + str(max_sub_array_of_size_k(3, [2, 1, 5, 1, 3, 2])))\n",
    "  print(\"Maximum sum of a subarray of size K: \" + str(max_sub_array_of_size_k(2, [2, 3, 4, 1, 5])))\n",
    "\n",
    "main()\n",
    "\n"
   ]
  },
  {
   "cell_type": "markdown",
   "metadata": {},
   "source": [
    "Time Complexity#\n",
    "\n",
    "The time complexity of the above algorithm will be O(N).\n",
    "\n",
    "Space Complexity#\n",
    "\n",
    "The algorithm runs in constant space O(1).\n"
   ]
  },
  {
   "cell_type": "code",
   "execution_count": null,
   "metadata": {},
   "outputs": [],
   "source": []
  },
  {
   "cell_type": "markdown",
   "metadata": {},
   "source": [
    "## Smallest Subarray with a given sum (easy)\n",
    "\n",
    "Problem Statement#\n",
    "\n",
    "Given an array of positive numbers and a positive number ‘S,’ find the length of the smallest contiguous subarray whose sum is greater than or equal to ‘S’. Return 0 if no such subarray exists.\n",
    "\n",
    "Example 1:\n",
    "\n",
    "Input: [2, 1, 5, 2, 3, 2], S=7 \n",
    "\n",
    "Output: 2\n",
    "\n",
    "Explanation: The smallest subarray with a sum greater than or equal to '7' is [5, 2].\n",
    "\n",
    "Example 2:\n",
    "\n",
    "Input: [2, 1, 5, 2, 8], S=7 \n",
    "\n",
    "Output: 1\n",
    "\n",
    "Explanation: The smallest subarray with a sum greater than or equal to '7' is [8].\n",
    "\n",
    "Example 3:\n",
    "\n",
    "Input: [3, 4, 1, 1, 6], S=8 \n",
    "\n",
    "Output: 3\n",
    "\n",
    "Explanation: Smallest subarrays with a sum greater than or equal to '8' are [3, 4, 1] \n",
    "or [1, 1, 6].\n",
    "\n"
   ]
  },
  {
   "cell_type": "code",
   "execution_count": 4,
   "metadata": {},
   "outputs": [
    {
     "name": "stdout",
     "output_type": "stream",
     "text": [
      "Smallest subarray length: 2\n",
      "Smallest subarray length: 1\n",
      "Smallest subarray length: 3\n"
     ]
    }
   ],
   "source": [
    "import math\n",
    "\n",
    "\n",
    "def smallest_subarray_with_given_sum(s, arr):\n",
    "  window_sum = 0\n",
    "  min_length = math.inf\n",
    "  window_start = 0\n",
    "\n",
    "  for window_end in range(0, len(arr)):\n",
    "    window_sum += arr[window_end]  # add the next element\n",
    "    # shrink the window as small as possible until the 'window_sum' is smaller than 's'\n",
    "    while window_sum >= s:\n",
    "      min_length = min(min_length, window_end - window_start + 1)\n",
    "      window_sum -= arr[window_start]\n",
    "      window_start += 1\n",
    "  if min_length == math.inf:\n",
    "    return 0\n",
    "  return min_length\n",
    "\n",
    "\n",
    "def main():\n",
    "  print(\"Smallest subarray length: \" + str(smallest_subarray_with_given_sum(7, [2, 1, 5, 2, 3, 2])))\n",
    "  print(\"Smallest subarray length: \" + str(smallest_subarray_with_given_sum(7, [2, 1, 5, 2, 8])))\n",
    "  print(\"Smallest subarray length: \" + str(smallest_subarray_with_given_sum(8, [3, 4, 1, 1, 6])))\n",
    "\n",
    "\n",
    "main()\n"
   ]
  },
  {
   "cell_type": "markdown",
   "metadata": {},
   "source": [
    "Time Complexity#\n",
    "\n",
    "The time complexity of the above algorithm will be O(N). The outer for loop runs for all elements, and the inner while loop processes each element only once; therefore, the time complexity of the algorithm will be O(N+N), which is asymptotically equivalent to O(N).\n",
    "\n",
    "Space Complexity#\n",
    "\n",
    "The algorithm runs in constant space O(1).\n",
    "\n"
   ]
  },
  {
   "cell_type": "code",
   "execution_count": null,
   "metadata": {},
   "outputs": [],
   "source": []
  },
  {
   "cell_type": "markdown",
   "metadata": {},
   "source": [
    "## Longest Substring with maximum K Distinct Characters (medium)\n",
    "\n",
    "\n",
    "Problem Statement#\n",
    "\n",
    "Given a string, find the length of the longest substring in it with no more than K distinct characters.\n",
    "\n",
    "Example 1:\n",
    "\n",
    "Input: String=\"araaci\", K=2\n",
    "\n",
    "Output: 4\n",
    "\n",
    "Explanation: The longest substring with no more than '2' distinct characters is \"araa\".\n",
    "\n",
    "Example 2:\n",
    "\n",
    "Input: String=\"araaci\", K=1\n",
    "\n",
    "Output: 2\n",
    "\n",
    "Explanation: The longest substring with no more than '1' distinct characters is \"aa\".\n",
    "\n",
    "Example 3:\n",
    "\n",
    "Input: String=\"cbbebi\", K=3\n",
    "\n",
    "Output: 5\n",
    "\n",
    "Explanation: The longest substrings with no more than '3' distinct characters are \"cbbeb\" & \"bbebi\".\n",
    "\n",
    "Example 4:\n",
    "\n",
    "Input: String=\"cbbebi\", K=10\n",
    "\n",
    "Output: 6\n",
    "\n",
    "Explanation: The longest substring with no more than '10' distinct characters is \"cbbebi\".\n",
    "\n",
    "\n",
    "Solution#\n",
    "This problem follows the Sliding Window pattern, and we can use a similar dynamic sliding window strategy as discussed in Smallest Subarray with a given sum. We can use a HashMap to remember the frequency of each character we have processed. Here is how we will solve this problem:\n",
    "\n",
    "- First, we will insert characters from the beginning of the string until we have K distinct characters in the HashMap.\n",
    "- These characters will constitute our sliding window. We are asked to find the longest such window having no more than K distinct characters. We will remember the length of this window as the longest window so far.\n",
    "- After this, we will keep adding one character in the sliding window (i.e., slide the window ahead) in a stepwise fashion.\n",
    "- In each step, we will try to shrink the window from the beginning if the count of distinct characters in the HashMap is larger than K. We will shrink the window until we have no more than K distinct characters in the HashMap. This is needed as we intend to find the longest window.\n",
    "- While shrinking, we’ll decrement the character’s frequency going out of the window and remove it from the HashMap if its frequency becomes zero.\n",
    "- At the end of each step, we’ll check if the current window length is the longest so far, and if so, remember its length.\n",
    "\n"
   ]
  },
  {
   "cell_type": "code",
   "execution_count": 5,
   "metadata": {},
   "outputs": [
    {
     "name": "stdout",
     "output_type": "stream",
     "text": [
      "Length of the longest substring: 4\n",
      "Length of the longest substring: 2\n",
      "Length of the longest substring: 5\n"
     ]
    }
   ],
   "source": [
    "def longest_substring_with_k_distinct(str1, k):\n",
    "  window_start = 0\n",
    "  max_length = 0\n",
    "  char_frequency = {}\n",
    "\n",
    "  # in the following loop we'll try to extend the range [window_start, window_end]\n",
    "  for window_end in range(len(str1)):\n",
    "    right_char = str1[window_end]\n",
    "    if right_char not in char_frequency:\n",
    "      char_frequency[right_char] = 0\n",
    "    char_frequency[right_char] += 1\n",
    "\n",
    "    # shrink the sliding window, until we are left with 'k' distinct characters in the char_frequency\n",
    "    while len(char_frequency) > k:\n",
    "      left_char = str1[window_start]\n",
    "      char_frequency[left_char] -= 1\n",
    "      if char_frequency[left_char] == 0:\n",
    "        del char_frequency[left_char]\n",
    "      window_start += 1  # shrink the window\n",
    "    # remember the maximum length so far\n",
    "    max_length = max(max_length, window_end-window_start + 1)\n",
    "  return max_length\n",
    "\n",
    "\n",
    "def main():\n",
    "  print(\"Length of the longest substring: \" + str(longest_substring_with_k_distinct(\"araaci\", 2)))\n",
    "  print(\"Length of the longest substring: \" + str(longest_substring_with_k_distinct(\"araaci\", 1)))\n",
    "  print(\"Length of the longest substring: \" + str(longest_substring_with_k_distinct(\"cbbebi\", 3)))\n",
    "\n",
    "\n",
    "main()\n",
    "\n"
   ]
  },
  {
   "cell_type": "markdown",
   "metadata": {},
   "source": [
    "Time Complexity#\n",
    "\n",
    "The above algorithm’s time complexity will be O(N), where NN is the number of characters in the input string. The outer for loop runs for all characters, and the inner while loop processes each character only once; therefore, the time complexity of the algorithm will be O(N+N), which is asymptotically equivalent to O(N).\n",
    "\n",
    "Space Complexity#\n",
    "\n",
    "The algorithm’s space complexity is O(K), as we will be storing a maximum of K+1K+1 characters in the HashMap.\n",
    "\n"
   ]
  },
  {
   "cell_type": "code",
   "execution_count": null,
   "metadata": {},
   "outputs": [],
   "source": []
  },
  {
   "cell_type": "markdown",
   "metadata": {},
   "source": [
    "## Fruits into Baskets (medium)\n",
    "\n",
    "\n",
    "Problem Statement#\n",
    "Given an array of characters where each character represents a fruit tree, you are given two baskets, and your goal is to put maximum number of fruits in each basket. The only restriction is that each basket can have only one type of fruit.\n",
    "\n",
    "You can start with any tree, but you can’t skip a tree once you have started. You will pick one fruit from each tree until you cannot, i.e., you will stop when you have to pick from a third fruit type.\n",
    "\n",
    "Write a function to return the maximum number of fruits in both baskets.\n",
    "\n",
    "Example 1:\n",
    "\n",
    "Input: Fruit=['A', 'B', 'C', 'A', 'C']\n",
    "\n",
    "Output: 3\n",
    "\n",
    "Explanation: We can put 2 'C' in one basket and one 'A' in the other from the subarray ['C', 'A', 'C']\n",
    "\n",
    "Example 2:\n",
    "\n",
    "Input: Fruit=['A', 'B', 'C', 'B', 'B', 'C']\n",
    "\n",
    "Output: 5\n",
    "\n",
    "Explanation: We can put 3 'B' in one basket and two 'C' in the other basket. \n",
    "\n",
    "This can be done if we start with the second letter: ['B', 'C', 'B', 'B', 'C']\n",
    "\n",
    "\n",
    "Solution#\n",
    "\n",
    "This problem follows the Sliding Window pattern and is quite similar to Longest Substring with K Distinct Characters. In this problem, we need to find the length of the longest subarray with no more than two distinct characters (or fruit types!). This transforms the current problem into Longest Substring with K Distinct Characters where K=2.\n",
    "\n"
   ]
  },
  {
   "cell_type": "code",
   "execution_count": 6,
   "metadata": {},
   "outputs": [
    {
     "name": "stdout",
     "output_type": "stream",
     "text": [
      "Maximum number of fruits: 3\n",
      "Maximum number of fruits: 5\n"
     ]
    }
   ],
   "source": [
    "def fruits_into_baskets(fruits):\n",
    "  window_start = 0\n",
    "  max_length = 0\n",
    "  fruit_frequency = {}\n",
    "\n",
    "  # try to extend the range [window_start, window_end]\n",
    "  for window_end in range(len(fruits)):\n",
    "    right_fruit = fruits[window_end]\n",
    "    if right_fruit not in fruit_frequency:\n",
    "      fruit_frequency[right_fruit] = 0\n",
    "    fruit_frequency[right_fruit] += 1\n",
    "\n",
    "    # shrink the sliding window, until we are left with '2' fruits in the fruit frequency dictionary\n",
    "    while len(fruit_frequency) > 2:\n",
    "      left_fruit = fruits[window_start]\n",
    "      fruit_frequency[left_fruit] -= 1\n",
    "      if fruit_frequency[left_fruit] == 0:\n",
    "        del fruit_frequency[left_fruit]\n",
    "      window_start += 1  # shrink the window\n",
    "    max_length = max(max_length, window_end-window_start + 1)\n",
    "  return max_length\n",
    "\n",
    "\n",
    "def main():\n",
    "  print(\"Maximum number of fruits: \" + str(fruits_into_baskets(['A', 'B', 'C', 'A', 'C'])))\n",
    "  print(\"Maximum number of fruits: \" + str(fruits_into_baskets(['A', 'B', 'C', 'B', 'B', 'C'])))\n",
    "\n",
    "\n",
    "main()\n"
   ]
  },
  {
   "cell_type": "markdown",
   "metadata": {},
   "source": [
    "Time Complexity#\n",
    "\n",
    "The above algorithm’s time complexity will be O(N), where ‘N’ is the number of characters in the input array. The outer for loop runs for all characters, and the inner while loop processes each character only once; therefore, the time complexity of the algorithm will be O(N+N), which is asymptotically equivalent to O(N).\n",
    "\n",
    "Space Complexity#\n",
    "\n",
    "The algorithm runs in constant space O(1) as there can be a maximum of three types of fruits stored in the frequency map.\n",
    "\n",
    "Similar Problems#\n",
    "\n",
    "Problem 1: Longest Substring with at most 2 distinct characters\n",
    "\n",
    "Given a string, find the length of the longest substring in it with at most two distinct characters.\n",
    "\n",
    "Solution: This problem is exactly similar to our parent problem.\n",
    "\n"
   ]
  },
  {
   "cell_type": "code",
   "execution_count": null,
   "metadata": {},
   "outputs": [],
   "source": []
  },
  {
   "cell_type": "markdown",
   "metadata": {},
   "source": [
    "## Longest Substring with Distinct Characters (hard)\n",
    "\n",
    "Problem Statement#\n",
    "\n",
    "Given a string, find the length of the longest substring, which has all distinct characters.\n",
    "\n",
    "Example 1:\n",
    "\n",
    "Input: String=\"aabccbb\"\n",
    "\n",
    "Output: 3\n",
    "\n",
    "Explanation: The longest substring with distinct characters is \"abc\".\n",
    "\n",
    "Example 2:\n",
    "\n",
    "Input: String=\"abbbb\"\n",
    "\n",
    "Output: 2\n",
    "\n",
    "Explanation: The longest substring with distinct characters is \"ab\".\n",
    "\n",
    "Example 3:\n",
    "\n",
    "Input: String=\"abccde\"\n",
    "\n",
    "Output: 3\n",
    "\n",
    "Explanation: Longest substrings with distinct characters are \"abc\" & \"cde\".\n",
    "\n",
    "\n",
    "\n"
   ]
  },
  {
   "cell_type": "code",
   "execution_count": 1,
   "metadata": {},
   "outputs": [],
   "source": [
    "def non_repeat_substring(str):\n",
    "  dict_ch = {}\n",
    "  start = 0\n",
    "  max_len = 0\n",
    "  for end, ch in enumerate(str):\n",
    "    if ch in dict_ch:\n",
    "      start = max(start, dict_ch[ch] + 1)\n",
    "    dict_ch[ch] = end\n",
    "    max_len = max(max_len, end - start + 1)\n",
    "  return max_len\n"
   ]
  },
  {
   "cell_type": "code",
   "execution_count": 2,
   "metadata": {},
   "outputs": [],
   "source": [
    "def non_repeat_substring(str1):\n",
    "  window_start = 0\n",
    "  max_length = 0\n",
    "  char_index_map = {}\n",
    "\n",
    "  # try to extend the range [windowStart, windowEnd]\n",
    "  for window_end in range(len(str1)):\n",
    "    right_char = str1[window_end]\n",
    "    # if the map already contains the 'right_char', shrink the window from the beginning so that\n",
    "    # we have only one occurrence of 'right_char'\n",
    "    if right_char in char_index_map:\n",
    "      # this is tricky; in the current window, we will not have any 'right_char' after its previous index\n",
    "      # and if 'window_start' is already ahead of the last index of 'right_char', we'll keep 'window_start'\n",
    "      window_start = max(window_start, char_index_map[right_char] + 1)\n",
    "    # insert the 'right_char' into the map\n",
    "    char_index_map[right_char] = window_end\n",
    "    # remember the maximum length so far\n",
    "    max_length = max(max_length, window_end - window_start + 1)\n",
    "  return max_length\n"
   ]
  },
  {
   "cell_type": "markdown",
   "metadata": {},
   "source": [
    "Solution#\n",
    "\n",
    "This problem follows the Sliding Window pattern, and we can use a similar dynamic sliding window strategy as discussed in Longest Substring with K Distinct Characters. We can use a HashMap to remember the last index of each character we have processed. Whenever we get a duplicate character, we will shrink our sliding window to ensure that we always have distinct characters in the sliding window.\n",
    "\n",
    "\n",
    "Time Complexity#\n",
    "\n",
    "The above algorithm’s time complexity will be O(N), where ‘N’ is the number of characters in the input string.\n",
    "\n",
    "Space Complexity#\n",
    "\n",
    "The algorithm’s space complexity will be O(K), where KK is the number of distinct characters in the input string. This also means K<=N, because in the worst case, the whole string might not have any duplicate character, so the entire string will be added to the HashMap. Having said that, since we can expect a fixed set of characters in the input string (e.g., 26 for English letters), we can say that the algorithm runs in fixed space O(1); in this case, we can use a fixed-size array instead of the HashMap.\n",
    "\n"
   ]
  },
  {
   "cell_type": "code",
   "execution_count": null,
   "metadata": {},
   "outputs": [],
   "source": []
  },
  {
   "cell_type": "markdown",
   "metadata": {},
   "source": [
    "## Longest Substring with Same Letters after Replacement (hard)\n",
    "\n",
    "Problem Statement#\n",
    "\n",
    "Given a string with lowercase letters only, if you are allowed to replace no more than k letters with any letter, find the length of the longest substring having the same letters after replacement.\n",
    "\n",
    "Example 1:\n",
    "\n",
    "Input: String=\"aabccbb\", k=2\n",
    "\n",
    "Output: 5\n",
    "\n",
    "Explanation: Replace the two 'c' with 'b' to have the longest repeating substring \"bbbbb\".\n",
    "\n",
    "Example 2:\n",
    "\n",
    "Input: String=\"abbcb\", k=1\n",
    "\n",
    "Output: 4\n",
    "\n",
    "Explanation: Replace the 'c' with 'b' to have the longest repeating substring \"bbbb\".\n",
    "\n",
    "Example 3:\n",
    "\n",
    "Input: String=\"abccde\", k=1\n",
    "\n",
    "Output: 3\n",
    "\n",
    "Explanation: Replace the 'b' or 'd' with 'c' to have the longest repeating substring \"ccc\".\n"
   ]
  },
  {
   "cell_type": "code",
   "execution_count": 3,
   "metadata": {},
   "outputs": [],
   "source": [
    "def length_of_longest_substring(str, k):\n",
    "  n = len(str)\n",
    "  max_repeats = 0\n",
    "  start = 0\n",
    "  dict_ch = {}\n",
    "  max_len = 0\n",
    "  for end, ch in enumerate(str):\n",
    "    if not ch in dict_ch:\n",
    "      dict_ch[ch] = 0\n",
    "    dict_ch[ch] += 1\n",
    "    max_repeats = max(max_repeats, dict_ch[ch])\n",
    "    if end - max_repeats - start + 1 > k:\n",
    "      ch_left = str[start]\n",
    "      if ch_left in dict_ch:\n",
    "        dict_ch[ch_left] -= 1\n",
    "        if dict_ch[ch_left] == 0:\n",
    "          del dict_ch[ch_left]\n",
    "      start += 1\n",
    "    max_len = max(max_len, end - start + 1)\n",
    "  return max_len\n",
    "    \n",
    "    \n",
    "\n",
    "\n",
    "    "
   ]
  },
  {
   "cell_type": "markdown",
   "metadata": {},
   "source": [
    "Time Complexity#\n",
    "\n",
    "The above algorithm’s time complexity will be O(N), where ‘N’ is the number of letters in the input string.\n",
    "\n",
    "Space Complexity#\n",
    "\n",
    "As we expect only the lower case letters in the input string, we can conclude that the space complexity will be O(26) to store each letter’s frequency in the HashMap, which is asymptotically equal to O(1).\n"
   ]
  },
  {
   "cell_type": "code",
   "execution_count": 4,
   "metadata": {},
   "outputs": [
    {
     "name": "stdout",
     "output_type": "stream",
     "text": [
      "5\n",
      "4\n",
      "3\n"
     ]
    }
   ],
   "source": [
    "def length_of_longest_substring(str1, k):\n",
    "  window_start, max_length, max_repeat_letter_count = 0, 0, 0\n",
    "  frequency_map = {}\n",
    "\n",
    "  # Try to extend the range [window_start, window_end]\n",
    "  for window_end in range(len(str1)):\n",
    "    right_char = str1[window_end]\n",
    "    if right_char not in frequency_map:\n",
    "      frequency_map[right_char] = 0\n",
    "    frequency_map[right_char] += 1\n",
    "    max_repeat_letter_count = max(\n",
    "      max_repeat_letter_count, frequency_map[right_char])\n",
    "\n",
    "    # Current window size is from window_start to window_end, overall we have a letter which is\n",
    "    # repeating 'max_repeat_letter_count' times, this means we can have a window which has one letter\n",
    "    # repeating 'max_repeat_letter_count' times and the remaining letters we should replace.\n",
    "    # if the remaining letters are more than 'k', it is the time to shrink the window as we\n",
    "    # are not allowed to replace more than 'k' letters\n",
    "    if (window_end - window_start + 1 - max_repeat_letter_count) > k:\n",
    "      left_char = str1[window_start]\n",
    "      frequency_map[left_char] -= 1\n",
    "      window_start += 1\n",
    "\n",
    "    max_length = max(max_length, window_end - window_start + 1)\n",
    "  return max_length\n",
    "\n",
    "\n",
    "def main():\n",
    "  print(length_of_longest_substring(\"aabccbb\", 2))\n",
    "  print(length_of_longest_substring(\"abbcb\", 1))\n",
    "  print(length_of_longest_substring(\"abccde\", 1))\n",
    "\n",
    "\n",
    "main()\n",
    "\n"
   ]
  },
  {
   "cell_type": "markdown",
   "metadata": {},
   "source": [
    "https://leetcode.com/problems/longest-repeating-character-replacement/\n",
    "\n",
    "\n",
    "424. Longest Repeating Character Replacement\n",
    "\n",
    "You are given a string s and an integer k. You can choose any character of the string and change it to any other uppercase English character. You can perform this operation at most k times.\n",
    "\n",
    "Return the length of the longest substring containing the same letter you can get after performing the above operations.\n",
    "\n",
    " \n",
    "\n",
    "Example 1:\n",
    "\n",
    "Input: s = \"ABAB\", k = 2\n",
    "Output: 4\n",
    "Explanation: Replace the two 'A's with two 'B's or vice versa.\n",
    "Example 2:\n",
    "\n",
    "Input: s = \"AABABBA\", k = 1\n",
    "Output: 4\n",
    "Explanation: Replace the one 'A' in the middle with 'B' and form \"AABBBBA\".\n",
    "The substring \"BBBB\" has the longest repeating letters, which is 4.\n",
    " \n",
    "\n",
    "Constraints:\n",
    "\n",
    "- 1 <= s.length <= 105\n",
    "- s consists of only uppercase English letters.\n",
    "- 0 <= k <= s.length\n",
    "\n"
   ]
  },
  {
   "cell_type": "code",
   "execution_count": 5,
   "metadata": {},
   "outputs": [],
   "source": [
    "class Solution:\n",
    "    def characterReplacement(self, s: str, k: int) -> int:\n",
    "        ## RC ##\n",
    "\t\t## APPROACH : SLIDING WINDOW ##\n",
    "        # Logic #\n",
    "        # 1. Increase the window if the substring is valid else,\n",
    "        # 2. slide the window with the same length. No need to shrink the window\n",
    "        \n",
    "\t\t## TIME COMPLEXITY : O(N) ##\n",
    "\t\t## SPACE COMPLEXITY : O(N) ##\n",
    "\n",
    "        freqDict = defaultdict(int)\n",
    "        maxFreq = 0\n",
    "        maxLength = 0\n",
    "        start = end = 0\n",
    "        while end < len(s):\n",
    "            freqDict[s[end]] += 1\n",
    "            \n",
    "            # maxFreq may be invalid at some points, but this doesn't matter\n",
    "            # maxFreq will only store the maxFreq reached till now\n",
    "            maxFreq = max(maxFreq, freqDict[s[end]])\n",
    "            \n",
    "            # maintain the substring length and slide the window if the substring is invalid\n",
    "            if ((end-start+1) - maxFreq) > k:\n",
    "                freqDict[s[start]] -= 1\n",
    "                start += 1\n",
    "            else:\n",
    "                maxLength = max(maxLength, end-start+1)\n",
    "            end += 1\n",
    "        return maxLength\n",
    "    "
   ]
  },
  {
   "cell_type": "code",
   "execution_count": null,
   "metadata": {},
   "outputs": [],
   "source": []
  },
  {
   "cell_type": "markdown",
   "metadata": {},
   "source": [
    "## Longest Subarray with Ones after Replacement (hard)\n",
    "\n",
    "Problem Statement#\n",
    "\n",
    "Given an array containing 0s and 1s, if you are allowed to replace no more than ‘k’ 0s with 1s, find the length of the longest contiguous subarray having all 1s.\n",
    "\n",
    "Example 1:\n",
    "\n",
    "Input: Array=[0, 1, 1, 0, 0, 0, 1, 1, 0, 1, 1], k=2\n",
    "\n",
    "Output: 6\n",
    "\n",
    "Explanation: Replace the '0' at index 5 and 8 to have the longest contiguous subarray of 1s having length 6.\n",
    "\n",
    "Example 2:\n",
    "\n",
    "Input: Array=[0, 1, 0, 0, 1, 1, 0, 1, 1, 0, 0, 1, 1], k=3\n",
    "\n",
    "Output: 9\n",
    "\n",
    "Explanation: Replace the '0' at index 6, 9, and 10 to have the longest contiguous subarray of 1s having length 9.\n",
    "\n",
    "\n"
   ]
  },
  {
   "cell_type": "code",
   "execution_count": 6,
   "metadata": {},
   "outputs": [],
   "source": [
    "def length_of_longest_substring(arr, k):\n",
    "  start, n_zeros, max_len, max_ones = 0, 0, 0, 0\n",
    "  n = len(arr)\n",
    "  for end in range(n):\n",
    "    if arr[end] == 1:\n",
    "      max_ones += 1\n",
    "    if end - start + 1 - max_ones > k:\n",
    "      if arr[start] == 1:\n",
    "        max_ones -= 1\n",
    "      start += 1\n",
    "    max_len = max(max_len, end - start + 1)\n",
    "  return max_len\n",
    "\n"
   ]
  },
  {
   "cell_type": "markdown",
   "metadata": {},
   "source": [
    "Solution#\n",
    "\n",
    "This problem follows the Sliding Window pattern and is quite similar to Longest Substring with same Letters after Replacement. The only difference is that, in the problem, we only have two characters (1s and 0s) in the input arrays.\n",
    "\n",
    "Following a similar approach, we’ll iterate through the array to add one number at a time in the window. We’ll also keep track of the maximum number of repeating 1s in the current window (let’s call it maxOnesCount). So at any time, we know that we can have a window with 1s repeating maxOnesCount time, so we should try to replace the remaining 0s. If we have more than ‘k’ remaining 0s, we should shrink the window as we are not allowed to replace more than ‘k’ 0s.\n"
   ]
  },
  {
   "cell_type": "code",
   "execution_count": 7,
   "metadata": {},
   "outputs": [
    {
     "name": "stdout",
     "output_type": "stream",
     "text": [
      "6\n",
      "9\n"
     ]
    }
   ],
   "source": [
    "def length_of_longest_substring(arr, k):\n",
    "  window_start, max_length, max_ones_count = 0, 0, 0\n",
    "\n",
    "  # Try to extend the range [window_start, window_end]\n",
    "  for window_end in range(len(arr)):\n",
    "    if arr[window_end] == 1:\n",
    "      max_ones_count += 1\n",
    "\n",
    "    # Current window size is from window_start to window_end, overall we have a maximum of 1s\n",
    "    # repeating 'max_ones_count' times, this means we can have a window with 'max_ones_count' 1s\n",
    "    # and the remaining are 0s which should replace with 1s.\n",
    "    # now, if the remaining 0s are more than 'k', it is the time to shrink the window as we\n",
    "    # are not allowed to replace more than 'k' 0s\n",
    "    if (window_end - window_start + 1 - max_ones_count) > k:\n",
    "      if arr[window_start] == 1:\n",
    "        max_ones_count -= 1\n",
    "      window_start += 1\n",
    "\n",
    "    max_length = max(max_length, window_end - window_start + 1)\n",
    "  return max_length\n",
    "\n",
    "\n",
    "def main():\n",
    "  print(length_of_longest_substring([0, 1, 1, 0, 0, 0, 1, 1, 0, 1, 1], 2))\n",
    "  print(length_of_longest_substring(\n",
    "    [0, 1, 0, 0, 1, 1, 0, 1, 1, 0, 0, 1, 1], 3))\n",
    "\n",
    "\n",
    "main()\n",
    "\n"
   ]
  },
  {
   "cell_type": "markdown",
   "metadata": {},
   "source": [
    "Time Complexity#\n",
    "\n",
    "The above algorithm’s time complexity will be O(N), where ‘N’ is the count of numbers in the input array.\n",
    "\n",
    "Space Complexity#\n",
    "\n",
    "The algorithm runs in constant space O(1).\n"
   ]
  },
  {
   "cell_type": "code",
   "execution_count": null,
   "metadata": {},
   "outputs": [],
   "source": []
  },
  {
   "cell_type": "markdown",
   "metadata": {},
   "source": [
    "https://leetcode.com/problems/max-consecutive-ones-iii/\n",
    "\n",
    "1004. Max Consecutive Ones III\n",
    "\n",
    "\n",
    "Given a binary array nums and an integer k, return the maximum number of consecutive 1's in the array if you can flip at most k 0's.\n",
    "\n",
    " \n",
    "\n",
    "Example 1:\n",
    "\n",
    "Input: nums = [1,1,1,0,0,0,1,1,1,1,0], k = 2\n",
    "\n",
    "Output: 6\n",
    "\n",
    "Explanation: [1,1,1,0,0,1,1,1,1,1,1]\n",
    "\n",
    "Bolded numbers were flipped from 0 to 1. The longest subarray is underlined.\n",
    "\n",
    "Example 2:\n",
    "\n",
    "Input: nums = [0,0,1,1,0,0,1,1,1,0,1,1,0,0,0,1,1,1,1], k = 3\n",
    "\n",
    "Output: 10\n",
    "\n",
    "Explanation: [0,0,1,1,1,1,1,1,1,1,1,1,0,0,0,1,1,1,1]\n",
    "\n",
    "Bolded numbers were flipped from 0 to 1. The longest subarray is underlined.\n",
    " \n",
    "\n",
    "Constraints:\n",
    "\n",
    "- 1 <= nums.length <= 105\n",
    "- nums[i] is either 0 or 1.\n",
    "- 0 <= k <= nums.length\n",
    "\n"
   ]
  },
  {
   "cell_type": "code",
   "execution_count": null,
   "metadata": {},
   "outputs": [],
   "source": []
  },
  {
   "cell_type": "code",
   "execution_count": null,
   "metadata": {},
   "outputs": [],
   "source": []
  },
  {
   "cell_type": "code",
   "execution_count": null,
   "metadata": {},
   "outputs": [],
   "source": []
  },
  {
   "cell_type": "code",
   "execution_count": null,
   "metadata": {},
   "outputs": [],
   "source": []
  },
  {
   "cell_type": "code",
   "execution_count": null,
   "metadata": {},
   "outputs": [],
   "source": []
  },
  {
   "cell_type": "code",
   "execution_count": null,
   "metadata": {},
   "outputs": [],
   "source": []
  },
  {
   "cell_type": "code",
   "execution_count": null,
   "metadata": {},
   "outputs": [],
   "source": []
  },
  {
   "cell_type": "code",
   "execution_count": null,
   "metadata": {},
   "outputs": [],
   "source": []
  },
  {
   "cell_type": "code",
   "execution_count": null,
   "metadata": {},
   "outputs": [],
   "source": []
  },
  {
   "cell_type": "code",
   "execution_count": null,
   "metadata": {},
   "outputs": [],
   "source": []
  },
  {
   "cell_type": "code",
   "execution_count": null,
   "metadata": {},
   "outputs": [],
   "source": []
  },
  {
   "cell_type": "code",
   "execution_count": null,
   "metadata": {},
   "outputs": [],
   "source": []
  },
  {
   "cell_type": "code",
   "execution_count": null,
   "metadata": {},
   "outputs": [],
   "source": []
  },
  {
   "cell_type": "code",
   "execution_count": null,
   "metadata": {},
   "outputs": [],
   "source": []
  },
  {
   "cell_type": "code",
   "execution_count": null,
   "metadata": {},
   "outputs": [],
   "source": []
  },
  {
   "cell_type": "code",
   "execution_count": null,
   "metadata": {},
   "outputs": [],
   "source": []
  },
  {
   "cell_type": "code",
   "execution_count": null,
   "metadata": {},
   "outputs": [],
   "source": []
  },
  {
   "cell_type": "code",
   "execution_count": null,
   "metadata": {},
   "outputs": [],
   "source": []
  },
  {
   "cell_type": "code",
   "execution_count": null,
   "metadata": {},
   "outputs": [],
   "source": []
  },
  {
   "cell_type": "code",
   "execution_count": null,
   "metadata": {},
   "outputs": [],
   "source": []
  },
  {
   "cell_type": "code",
   "execution_count": null,
   "metadata": {},
   "outputs": [],
   "source": []
  }
 ],
 "metadata": {
  "kernelspec": {
   "display_name": "Python 3",
   "language": "python",
   "name": "python3"
  },
  "language_info": {
   "codemirror_mode": {
    "name": "ipython",
    "version": 3
   },
   "file_extension": ".py",
   "mimetype": "text/x-python",
   "name": "python",
   "nbconvert_exporter": "python",
   "pygments_lexer": "ipython3",
   "version": "3.8.5"
  },
  "toc": {
   "base_numbering": 1,
   "nav_menu": {},
   "number_sections": true,
   "sideBar": true,
   "skip_h1_title": false,
   "title_cell": "Table of Contents",
   "title_sidebar": "Contents",
   "toc_cell": false,
   "toc_position": {},
   "toc_section_display": true,
   "toc_window_display": true
  }
 },
 "nbformat": 4,
 "nbformat_minor": 4
}
